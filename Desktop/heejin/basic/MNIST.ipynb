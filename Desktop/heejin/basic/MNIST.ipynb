{
 "cells": [
  {
   "cell_type": "code",
   "execution_count": 31,
   "metadata": {},
   "outputs": [],
   "source": [
    "import csv\n",
    "import numpy as np\n",
    "import matplotlib.pyplot\n",
    "%matplotlib inline"
   ]
  },
  {
   "cell_type": "markdown",
   "metadata": {},
   "source": [
    "Load data"
   ]
  },
  {
   "cell_type": "code",
   "execution_count": 11,
   "metadata": {},
   "outputs": [],
   "source": [
    "train_path='./mnist_train.csv'\n",
    "test_path='./mnist_test.csv'"
   ]
  },
  {
   "cell_type": "code",
   "execution_count": 79,
   "metadata": {},
   "outputs": [],
   "source": [
    "class_num=10"
   ]
  },
  {
   "cell_type": "code",
   "execution_count": 43,
   "metadata": {},
   "outputs": [],
   "source": [
    "def load_data(path):\n",
    "    data=[]\n",
    "    label=[]\n",
    "    f = open(path, 'r', encoding='utf-8')\n",
    "    reader = csv.reader(f)\n",
    "    for line in reader:\n",
    "        label.append(int(line[0]))\n",
    "        data.append(list(map(int, line[1:])))\n",
    "    f.close()   \n",
    "    return label, data"
   ]
  },
  {
   "cell_type": "code",
   "execution_count": 44,
   "metadata": {},
   "outputs": [],
   "source": [
    "train_label, train_data=load_data(train_path)\n",
    "train_data=np.reshape(train_data, (-1, 28, 28))"
   ]
  },
  {
   "cell_type": "code",
   "execution_count": 45,
   "metadata": {},
   "outputs": [],
   "source": [
    "test_label, test_data=load_data(test_path)\n",
    "test_data=np.reshape(test_data, (-1, 28, 28))"
   ]
  },
  {
   "cell_type": "code",
   "execution_count": 46,
   "metadata": {},
   "outputs": [
    {
     "data": {
      "text/plain": [
       "(60000, 28, 28)"
      ]
     },
     "execution_count": 46,
     "metadata": {},
     "output_type": "execute_result"
    }
   ],
   "source": [
    "np.shape(train_data)"
   ]
  },
  {
   "cell_type": "code",
   "execution_count": 47,
   "metadata": {
    "scrolled": true
   },
   "outputs": [
    {
     "data": {
      "text/plain": [
       "(10000, 28, 28)"
      ]
     },
     "execution_count": 47,
     "metadata": {},
     "output_type": "execute_result"
    }
   ],
   "source": [
    "np.shape(test_data)"
   ]
  },
  {
   "cell_type": "code",
   "execution_count": 77,
   "metadata": {},
   "outputs": [],
   "source": [
    "#one-hot encoding\n",
    "train_label=np.eye(class_num)[train_label]\n",
    "test_label=np.eye(class_num)[test_label]"
   ]
  },
  {
   "cell_type": "code",
   "execution_count": 48,
   "metadata": {},
   "outputs": [],
   "source": [
    "check=60"
   ]
  },
  {
   "cell_type": "code",
   "execution_count": 49,
   "metadata": {
    "scrolled": true
   },
   "outputs": [
    {
     "name": "stdout",
     "output_type": "stream",
     "text": [
      "label: 4\n"
     ]
    },
    {
     "data": {
      "image/png": "[encoded data removed]",
      "text/plain": [
       "<Figure size 432x288 with 1 Axes>"
      ]
     },
     "metadata": {
      "needs_background": "light"
     },
     "output_type": "display_data"
    }
   ],
   "source": [
    "matplotlib.pyplot.imshow(train_data[check]) \n",
    "print('label:', train_label[check])"
   ]
  },
  {
   "cell_type": "code",
   "execution_count": 58,
   "metadata": {},
   "outputs": [],
   "source": [
    "#Normalization\n",
    "\n",
    "train_data=train_data/255\n",
    "test_data=test_data/255"
   ]
  },
  {
   "cell_type": "markdown",
   "metadata": {},
   "source": [
    "MLP"
   ]
  },
  {
   "cell_type": "code",
   "execution_count": 231,
   "metadata": {},
   "outputs": [],
   "source": [
    "class MLP():\n",
    "    def __init__(self, batch):\n",
    "        self.batch=batch\n",
    "        self.W_1=np.random.rand(28*28, 512)\n",
    "        self.b_1=np.random.rand(self.batch, 512)\n",
    "        self.W_2=np.random.rand(512, 10)\n",
    "        self.b_2=np.random.rand(batch, 10)\n",
    "    \n",
    "    def relu(self, x):\n",
    "        return np.maximum(0, x)\n",
    "    \n",
    "    def sigmoid(self, x, der=False):\n",
    "        if der==False:\n",
    "            return 1/(1+np.exp(-1*x))\n",
    "        else:\n",
    "            return (1/(1+np.exp(-1*x)))*(1- (1/(1+np.exp(-1*x))))\n",
    "    \n",
    "    def softmax(self, x, der=False):\n",
    "        #ex=np.exp(x-np.max(x, axis=1, keepdims=True))\n",
    "        ex=np.exp(x)\n",
    "        return ex/np.sum(ex, axis=1, keepdims=True) \n",
    "    \n",
    "    def forward(self, x):\n",
    "        x=np.dot(x.reshape(self.batch, -1), self.W_1)\n",
    "        x=self.b_1+x\n",
    "        x=self.sigmoid(x)\n",
    "        x=np.dot(x, self.W_2)\n",
    "        x=self.b_2+x\n",
    "        prob=self.softmax(x)\n",
    "        return prob\n",
    "    \n",
    "    def backward(self, pred, label):\n",
    "        dx=(pred-label)/self.batch\n",
    "        return dx"
   ]
  },
  {
   "cell_type": "code",
   "execution_count": 232,
   "metadata": {},
   "outputs": [],
   "source": [
    "def crossEntropy(y, label):\n",
    "    delta=int(1e-7)\n",
    "    return -1*np.sum(label*np.log(y+delta))"
   ]
  },
  {
   "cell_type": "code",
   "execution_count": 233,
   "metadata": {},
   "outputs": [],
   "source": [
    "def train(x, label):\n",
    "    batch=128\n",
    "    layer=MLP(batch)\n",
    "    pred=layer.forward(x)\n",
    "    loss=crossEntropy(pred, label)\n",
    "    print(loss)\n",
    "    dx=layer.backward(pred, label)\n",
    "    print(dx)"
   ]
  },
  {
   "cell_type": "code",
   "execution_count": 234,
   "metadata": {},
   "outputs": [
    {
     "name": "stdout",
     "output_type": "stream",
     "text": [
      "1042.4064302627971\n",
      "[[ 1.12860964e-05  6.82967180e-07  3.97273325e-08 ...  1.02201016e-05\n",
      "   2.23047326e-06  7.73793446e-03]\n",
      " [-7.80639812e-03  5.71901785e-07  7.02390173e-08 ...  8.76597434e-06\n",
      "   3.64020116e-06  7.74275204e-03]\n",
      " [ 6.71847862e-06  1.01733735e-06  8.41959794e-08 ...  1.89313208e-05\n",
      "   5.44784673e-06  7.64997700e-03]\n",
      " ...\n",
      " [ 4.65370036e-06  6.74889080e-07  4.37845002e-08 ...  1.11476674e-05\n",
      "  -7.80910734e-03  7.73931517e-03]\n",
      " [ 1.23736768e-05  1.54917233e-06  9.08529600e-08 ...  2.34827288e-05\n",
      "   3.61676511e-06  7.68539702e-03]\n",
      " [ 8.53698869e-06  5.75490061e-07  4.82168520e-08 ...  9.62029302e-06\n",
      "   3.67611895e-06  7.71715836e-03]]\n"
     ]
    }
   ],
   "source": [
    "#for i in range(0, len(train_data), batch):\n",
    "for i in range(0, 128, batch):\n",
    "    train(train_data[i:i+batch], train_label[i:i+batch])\n",
    "    "
   ]
  },
  {
   "cell_type": "code",
   "execution_count": null,
   "metadata": {},
   "outputs": [],
   "source": []
  }
 ],
 "metadata": {
  "kernelspec": {
   "display_name": "Python 3",
   "language": "python",
   "name": "python3"
  },
  "language_info": {
   "codemirror_mode": {
    "name": "ipython",
    "version": 3
   },
   "file_extension": ".py",
   "mimetype": "text/x-python",
   "name": "python",
   "nbconvert_exporter": "python",
   "pygments_lexer": "ipython3",
   "version": "3.8.5"
  }
 },
 "nbformat": 4,
 "nbformat_minor": 4
}
