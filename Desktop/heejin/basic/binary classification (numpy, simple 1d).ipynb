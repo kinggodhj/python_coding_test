{
 "cells": [
  {
   "cell_type": "code",
   "execution_count": 1,
   "metadata": {},
   "outputs": [],
   "source": [
    "import numpy as np"
   ]
  },
  {
   "cell_type": "code",
   "execution_count": 24,
   "metadata": {},
   "outputs": [],
   "source": [
    "def sigmoid(x, der=False):\n",
    "    sig=1/(1+np.exp(-1*x))\n",
    "    if der==False:\n",
    "         return sig\n",
    "    else:\n",
    "        return sig*(1-sig)        "
   ]
  },
  {
   "cell_type": "code",
   "execution_count": 42,
   "metadata": {},
   "outputs": [],
   "source": [
    "def CE(y, pred):\n",
    "    return -1*(y*np.log(pred)+(1-y)*np.log(1-pred))"
   ]
  },
  {
   "cell_type": "code",
   "execution_count": 151,
   "metadata": {},
   "outputs": [],
   "source": [
    "x=np.array([[10,0], [0,0],[-10,0],[-5, 5], [10,10], [20, 0], [-20,-0], [-30, -10]])\n",
    "y=np.array([[1],[1],[1],[1],[0],[0],[0],[0]])"
   ]
  },
  {
   "cell_type": "code",
   "execution_count": 155,
   "metadata": {},
   "outputs": [],
   "source": [
    "w=np.random.rand(2, 1)\n",
    "b=np.random.rand(1)\n",
    "epoch=50\n",
    "lr=0.01"
   ]
  },
  {
   "cell_type": "code",
   "execution_count": 156,
   "metadata": {},
   "outputs": [
    {
     "name": "stdout",
     "output_type": "stream",
     "text": [
      "0 cost: 2.736572958692835\n"
     ]
    }
   ],
   "source": [
    "for e in range(epoch):\n",
    "    z = np.matmul(x, w)+b\n",
    "    pred=sigmoid(z)\n",
    "    cost=np.sum(CE(y, pred)) / len(x)\n",
    "    \n",
    "    err=(pred-y)\n",
    "    \n",
    "    grad_w= np.sum(err*x) / len(x)\n",
    "    grad_b= np.sum(err) / len(x)\n",
    "    \n",
    "    w-=lr*grad_w\n",
    "    b-=lr*grad_b\n",
    "    \n",
    "    if e%10==0:\n",
    "        print(e, 'cost:', cost)"
   ]
  },
  {
   "cell_type": "code",
   "execution_count": 160,
   "metadata": {},
   "outputs": [
    {
     "data": {
      "text/plain": [
       "array([0.81174156])"
      ]
     },
     "execution_count": 160,
     "metadata": {},
     "output_type": "execute_result"
    }
   ],
   "source": [
    "sigmoid(np.matmul(np.array([0, 10]), w)+b)"
   ]
  },
  {
   "cell_type": "markdown",
   "metadata": {},
   "source": [
    "## 1d"
   ]
  },
  {
   "cell_type": "code",
   "execution_count": 161,
   "metadata": {},
   "outputs": [],
   "source": [
    "x=np.array([1, 2, 3, 8, 9, 10])\n",
    "y=np.array([0 ,0, 0, 1, 1, 1])"
   ]
  },
  {
   "cell_type": "code",
   "execution_count": 162,
   "metadata": {},
   "outputs": [],
   "source": [
    "w=np.random.rand(1)\n",
    "b=np.random.rand(1)\n",
    "lr=0.01\n",
    "epoch=500"
   ]
  },
  {
   "cell_type": "code",
   "execution_count": 163,
   "metadata": {},
   "outputs": [
    {
     "name": "stdout",
     "output_type": "stream",
     "text": [
      "0 cost: 0.9573147836263027\n",
      "50 cost: 0.5894169301639258\n",
      "100 cost: 0.47020018883244624\n",
      "150 cost: 0.44675632136896065\n",
      "200 cost: 0.4273692557214995\n",
      "250 cost: 0.4092664328386277\n",
      "300 cost: 0.39234123383717406\n",
      "350 cost: 0.3765080173900213\n",
      "400 cost: 0.3616863377697499\n",
      "450 cost: 0.34780094549975443\n",
      "done\n"
     ]
    }
   ],
   "source": [
    "for e in range(epoch):\n",
    "    z = w*x+b\n",
    "    pred = sigmoid(z)\n",
    "    \n",
    "    cost = np.sum(CE(y, pred)) / len(x)\n",
    "    err = pred - y\n",
    "    \n",
    "    grad_w = np.sum(err*x) / len(x)\n",
    "    grad_b = np.sum(err) / len(x)\n",
    "    \n",
    "    w -= lr*grad_w\n",
    "    b -= lr*grad_b\n",
    "    \n",
    "    if e%50 == 0:\n",
    "        print(e, 'cost:', cost)\n",
    "print('done')"
   ]
  },
  {
   "cell_type": "code",
   "execution_count": 165,
   "metadata": {},
   "outputs": [
    {
     "data": {
      "text/plain": [
       "array([0.20105391])"
      ]
     },
     "execution_count": 165,
     "metadata": {},
     "output_type": "execute_result"
    }
   ],
   "source": [
    "sigmoid(w*-1+b)"
   ]
  },
  {
   "cell_type": "code",
   "execution_count": null,
   "metadata": {},
   "outputs": [],
   "source": []
  }
 ],
 "metadata": {
  "kernelspec": {
   "display_name": "basic",
   "language": "python",
   "name": "basic"
  },
  "language_info": {
   "codemirror_mode": {
    "name": "ipython",
    "version": 3
   },
   "file_extension": ".py",
   "mimetype": "text/x-python",
   "name": "python",
   "nbconvert_exporter": "python",
   "pygments_lexer": "ipython3",
   "version": "3.7.9"
  }
 },
 "nbformat": 4,
 "nbformat_minor": 4
}
