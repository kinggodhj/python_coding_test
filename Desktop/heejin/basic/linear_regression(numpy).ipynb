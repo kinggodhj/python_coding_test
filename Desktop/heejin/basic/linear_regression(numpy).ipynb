{
 "cells": [
  {
   "cell_type": "code",
   "execution_count": 1,
   "metadata": {},
   "outputs": [],
   "source": [
    "import numpy as np"
   ]
  },
  {
   "cell_type": "markdown",
   "metadata": {},
   "source": [
    "y=2*x+3"
   ]
  },
  {
   "cell_type": "code",
   "execution_count": 47,
   "metadata": {},
   "outputs": [],
   "source": [
    "x_train = np.array([1., 3., 5., 7., 10.])\n",
    "y_train = np.array([5., 9., 13., 17., 23.])"
   ]
  },
  {
   "cell_type": "code",
   "execution_count": 96,
   "metadata": {},
   "outputs": [],
   "source": [
    "w=0\n",
    "b=0\n",
    "\n",
    "epoch=500\n",
    "lr=0.01"
   ]
  },
  {
   "cell_type": "code",
   "execution_count": 97,
   "metadata": {},
   "outputs": [
    {
     "name": "stdout",
     "output_type": "stream",
     "text": [
      "0 th cost: 218.6 1.784 0.268\n",
      "50 th cost: 1.1155687918969757 2.290326893625152 0.9598946522773893\n",
      "100 th cost: 0.6623436613783159 2.223707622058055 1.4280232864813451\n",
      "150 th cost: 0.39325152241131006 2.1723750064693763 1.7887337334792857\n",
      "200 th cost: 0.23348416976920702 2.1328213253619346 2.0666744896449645\n",
      "250 th cost: 0.13862592876575822 2.102343749434666 2.280838134143983\n",
      "300 th cost: 0.08230600021048427 2.0788596486279873 2.445859152500002\n",
      "350 th cost: 0.04886732035602724 2.0607642793632412 2.5730139577096356\n",
      "400 th cost: 0.029013862812816295 2.0468211272909937 2.670991443541274\n",
      "450 th cost: 0.01722632281017038 2.0360774123180927 2.7464867243846722\n",
      "Trained w: 2.0279442863948813 Trained b: 2.803637591403794\n"
     ]
    }
   ],
   "source": [
    "for i in range(epoch):\n",
    "    hypothesis = x_train * w + b\n",
    "    #MSE\n",
    "    cost = np.sum((y_train-hypothesis)**2) / len(x_train)\n",
    "    \n",
    "    grad_w = np.sum(2*(hypothesis - y_train)*x_train) / len(x_train)\n",
    "    grad_b = np.sum(2*(hypothesis - y_train)) / len(x_train)\n",
    "    \n",
    "    w-=grad_w*lr\n",
    "    b-=grad_b*lr\n",
    "    \n",
    "    if i%50==0:\n",
    "        print(i,'th cost:', cost, w, b)\n",
    "    \n",
    "print('Trained w:', w, 'Trained b:', b)"
   ]
  },
  {
   "cell_type": "code",
   "execution_count": 99,
   "metadata": {},
   "outputs": [
    {
     "data": {
      "text/plain": [
       "array([ 4.83158188,  8.88747045, 12.94335902, 16.9992476 , 23.08308046])"
      ]
     },
     "execution_count": 99,
     "metadata": {},
     "output_type": "execute_result"
    }
   ],
   "source": [
    "x_train*w+b"
   ]
  },
  {
   "cell_type": "code",
   "execution_count": 120,
   "metadata": {},
   "outputs": [],
   "source": [
    "a = np.array([[1, 1], [1, 3]])\n",
    "b = np.array([5, 9])"
   ]
  },
  {
   "cell_type": "code",
   "execution_count": 121,
   "metadata": {},
   "outputs": [
    {
     "data": {
      "text/plain": [
       "array([3., 2.])"
      ]
     },
     "execution_count": 121,
     "metadata": {},
     "output_type": "execute_result"
    }
   ],
   "source": [
    "np.linalg.solve(a, b)"
   ]
  }
 ],
 "metadata": {
  "kernelspec": {
   "display_name": "basic",
   "language": "python",
   "name": "basic"
  },
  "language_info": {
   "codemirror_mode": {
    "name": "ipython",
    "version": 3
   },
   "file_extension": ".py",
   "mimetype": "text/x-python",
   "name": "python",
   "nbconvert_exporter": "python",
   "pygments_lexer": "ipython3",
   "version": "3.7.9"
  }
 },
 "nbformat": 4,
 "nbformat_minor": 4
}
